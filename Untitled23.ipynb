{
  "cells": [
    {
      "cell_type": "code",
      "execution_count": 3,
      "metadata": {
        "colab": {
          "base_uri": "https://localhost:8080/"
        },
        "id": "b7tnSQ9OCUA4",
        "outputId": "45465e18-3095-4c5a-99cb-84c518a8c2b7"
      },
      "outputs": [
        {
          "name": "stdout",
          "output_type": "stream",
          "text": [
            "        Time (s)  Linear Acceleration x (m/s^2)  \\\n",
            "0       0.058482                      -0.000521   \n",
            "1       0.063413                      -0.081342   \n",
            "2       0.068343                      -0.155432   \n",
            "3       0.073274                      -0.216484   \n",
            "4       0.078204                      -0.259207   \n",
            "...          ...                            ...   \n",
            "39780  72.933688                      -0.693556   \n",
            "39781  72.938618                      -0.632654   \n",
            "39782  72.943548                      -0.557035   \n",
            "39783  72.948479                      -0.471272   \n",
            "39784  72.953409                      -0.382568   \n",
            "\n",
            "       Linear Acceleration y (m/s^2)  Linear Acceleration z (m/s^2)  \\\n",
            "0                           0.000087                       0.001312   \n",
            "1                          -0.016026                      -0.010182   \n",
            "2                          -0.026333                      -0.038712   \n",
            "3                          -0.026669                      -0.095038   \n",
            "4                          -0.015601                      -0.180871   \n",
            "...                              ...                            ...   \n",
            "39780                       1.342053                      -0.679506   \n",
            "39781                       1.317965                      -0.738036   \n",
            "39782                       1.271414                      -0.810586   \n",
            "39783                       1.207817                      -0.893678   \n",
            "39784                       1.137230                      -0.981551   \n",
            "\n",
            "       Absolute acceleration (m/s^2)  Label  \n",
            "0                          -0.001227      0  \n",
            "1                           0.080218      0  \n",
            "2                           0.165297      0  \n",
            "3                           0.255217      0  \n",
            "4                           0.348326      0  \n",
            "...                              ...    ...  \n",
            "39780                       1.659191      1  \n",
            "39781                       1.647705      1  \n",
            "39782                       1.621353      1  \n",
            "39783                       1.584924      1  \n",
            "39784                       1.546407      1  \n",
            "\n",
            "[39785 rows x 6 columns]\n"
          ]
        }
      ],
      "source": [
        "import pandas as pd\n",
        "from scipy.signal import butter, filtfilt\n",
        "\n",
        "def butter_lowpass(cutoff, fs, order=5):\n",
        "    nyquist = 0.5 * fs\n",
        "    normal_cutoff = cutoff / nyquist\n",
        "    b, a = butter(order, normal_cutoff, btype='low', analog=False)\n",
        "    return b, a\n",
        "\n",
        "def apply_lowpass_filter(data, cutoff_frequency, sampling_frequency):\n",
        "    b, a = butter_lowpass(cutoff_frequency, sampling_frequency)\n",
        "    filtered_data = filtfilt(b, a, data)\n",
        "    return filtered_data\n",
        "\n",
        "# Read the dataset\n",
        "combined_df = pd.read_excel(\"combined_data.xlsx\")\n",
        "\n",
        "# Define parameters for the low-pass filter\n",
        "cutoff_frequency = 10  # Adjust cutoff frequency as needed\n",
        "sampling_frequency = 100  # Assuming sampling frequency of 100 Hz, adjust accordingly\n",
        "\n",
        "# Apply low-pass filter to specified columns\n",
        "columns_to_filter = ['Linear Acceleration x (m/s^2)',\n",
        "                     'Linear Acceleration y (m/s^2)',\n",
        "                     'Linear Acceleration z (m/s^2)',\n",
        "                     'Absolute acceleration (m/s^2)']\n",
        "\n",
        "for column in columns_to_filter:\n",
        "    combined_df[column] = apply_lowpass_filter(combined_df[column], cutoff_frequency, sampling_frequency)\n",
        "\n",
        "# Print the filtered DataFrame\n",
        "print(combined_df)\n",
        "\n",
        "# Write the filtered DataFrame to a new Excel file\n",
        "#combined_df.to_excel(\"filtered_combined_data.xlsx\", index=False)\n"
      ]
    },
    {
      "cell_type": "code",
      "execution_count": 4,
      "metadata": {
        "colab": {
          "base_uri": "https://localhost:8080/"
        },
        "id": "HodBLQpMA5xM",
        "outputId": "acad1208-c06c-4762-99ad-08d87c04bfc2"
      },
      "outputs": [
        {
          "ename": "AttributeError",
          "evalue": "'numpy.ndarray' object has no attribute 'drop'",
          "output_type": "error",
          "traceback": [
            "\u001b[0;31m---------------------------------------------------------------------------\u001b[0m",
            "\u001b[0;31mAttributeError\u001b[0m                            Traceback (most recent call last)",
            "Cell \u001b[0;32mIn[4], line 15\u001b[0m\n\u001b[1;32m     13\u001b[0m X \u001b[38;5;241m=\u001b[39m dataset\u001b[38;5;241m.\u001b[39miloc[:, :\u001b[38;5;241m-\u001b[39m\u001b[38;5;241m1\u001b[39m]\u001b[38;5;241m.\u001b[39mvalues  \u001b[38;5;66;03m# Features: Time, Linear Acceleration x, y, z\u001b[39;00m\n\u001b[1;32m     14\u001b[0m y \u001b[38;5;241m=\u001b[39m dataset\u001b[38;5;241m.\u001b[39miloc[:, \u001b[38;5;241m-\u001b[39m\u001b[38;5;241m1\u001b[39m]\u001b[38;5;241m.\u001b[39mvalues   \u001b[38;5;66;03m# Labels: 0 - non speed bump, 1 - speed bump\u001b[39;00m\n\u001b[0;32m---> 15\u001b[0m \u001b[43mX\u001b[49m\u001b[38;5;241;43m.\u001b[39;49m\u001b[43mdrop\u001b[49m[\u001b[38;5;124m'\u001b[39m\u001b[38;5;124mTime (s)\u001b[39m\u001b[38;5;124m'\u001b[39m]\n\u001b[1;32m     16\u001b[0m \u001b[38;5;66;03m# Split into train and test sets\u001b[39;00m\n\u001b[1;32m     17\u001b[0m X_train, X_test, y_train, y_test \u001b[38;5;241m=\u001b[39m train_test_split(X, y, test_size\u001b[38;5;241m=\u001b[39m\u001b[38;5;241m0.2\u001b[39m, random_state\u001b[38;5;241m=\u001b[39m\u001b[38;5;241m42\u001b[39m)\n",
            "\u001b[0;31mAttributeError\u001b[0m: 'numpy.ndarray' object has no attribute 'drop'"
          ]
        }
      ],
      "source": [
        "import numpy as np\n",
        "import pandas as pd\n",
        "from sklearn.model_selection import train_test_split\n",
        "from tensorflow.keras.models import Sequential\n",
        "from tensorflow.keras.layers import LSTM, Dense\n",
        "from tensorflow.keras.callbacks import EarlyStopping\n",
        "\n",
        "# Load dataset\n",
        "# Replace 'dataset.csv' with the path to your dataset file\n",
        "dataset = combined_df\n",
        "dataset.drop('Time (s)')\n",
        "# Split features and labels\n",
        "X = dataset.iloc[:, :-1].values  # Features: Time, Linear Acceleration x, y, z\n",
        "y = dataset.iloc[:, -1].values   # Labels: 0 - non speed bump, 1 - speed bump\n",
        "\n",
        "# Split into train and test sets\n",
        "X_train, X_test, y_train, y_test = train_test_split(X, y, test_size=0.2, random_state=42)\n",
        "\n",
        "# Reshape data for LSTM input (samples, timesteps, features)\n",
        "X_train = np.reshape(X_train, (X_train.shape[0], 1, X_train.shape[1]))\n",
        "X_test = np.reshape(X_test, (X_test.shape[0], 1, X_test.shape[1]))\n",
        "\n",
        "# Define LSTM model\n",
        "model = Sequential()\n",
        "model.add(LSTM(64, input_shape=(X_train.shape[1], X_train.shape[2])))\n",
        "model.add(Dense(1, activation='sigmoid'))\n",
        "\n",
        "# Compile model\n",
        "model.compile(loss='binary_crossentropy', optimizer='adam', metrics=['accuracy'])\n",
        "\n",
        "# Define early stopping callback\n",
        "early_stopping = EarlyStopping(patience=3, restore_best_weights=True)\n",
        "\n",
        "# Train model\n",
        "model.fit(X_train, y_train, epochs=50, batch_size=16, validation_split=0.2, callbacks=[early_stopping])\n",
        "\n",
        "# Evaluate model\n",
        "loss, accuracy = model.evaluate(X_test, y_test)\n",
        "print(f'Test Loss: {loss}, Test Accuracy: {accuracy}')\n",
        "\n",
        "# Now you can implement real-time detection using the trained model\n",
        "# You'll need to capture real-time accelerometer data, preprocess it, and feed it into the model for prediction\n",
        "# Depending on your platform (e.g., mobile app, embedded system), the implementation will vary.\n"
      ]
    },
    {
      "cell_type": "code",
      "execution_count": 5,
      "metadata": {
        "colab": {
          "base_uri": "https://localhost:8080/"
        },
        "id": "OkWN7KTFDw2n",
        "outputId": "a7454c50-a823-4262-d49a-cb9489667fb7"
      },
      "outputs": [
        {
          "ename": "FileNotFoundError",
          "evalue": "[Errno 2] No such file or directory: 'test_speed_bump.xlsx'",
          "output_type": "error",
          "traceback": [
            "\u001b[0;31m---------------------------------------------------------------------------\u001b[0m",
            "\u001b[0;31mFileNotFoundError\u001b[0m                         Traceback (most recent call last)",
            "Cell \u001b[0;32mIn[5], line 29\u001b[0m\n\u001b[1;32m     26\u001b[0m     \u001b[38;5;28;01mreturn\u001b[39;00m X\n\u001b[1;32m     28\u001b[0m \u001b[38;5;66;03m# Read the new dataset from Excel\u001b[39;00m\n\u001b[0;32m---> 29\u001b[0m new_data \u001b[38;5;241m=\u001b[39m \u001b[43mpd\u001b[49m\u001b[38;5;241;43m.\u001b[39;49m\u001b[43mread_excel\u001b[49m\u001b[43m(\u001b[49m\u001b[38;5;124;43m'\u001b[39;49m\u001b[38;5;124;43mtest_speed_bump.xlsx\u001b[39;49m\u001b[38;5;124;43m'\u001b[39;49m\u001b[43m)\u001b[49m  \u001b[38;5;66;03m# Replace 'new_dataset.xlsx' with the path to your new dataset file\u001b[39;00m\n\u001b[1;32m     31\u001b[0m \u001b[38;5;66;03m# Define parameters for the low-pass filter\u001b[39;00m\n\u001b[1;32m     32\u001b[0m cutoff_frequency \u001b[38;5;241m=\u001b[39m \u001b[38;5;241m10\u001b[39m  \u001b[38;5;66;03m# Adjust cutoff frequency as needed\u001b[39;00m\n",
            "File \u001b[0;32m~/Projects/Kalpaana/newenv/lib/python3.10/site-packages/pandas/io/excel/_base.py:495\u001b[0m, in \u001b[0;36mread_excel\u001b[0;34m(io, sheet_name, header, names, index_col, usecols, dtype, engine, converters, true_values, false_values, skiprows, nrows, na_values, keep_default_na, na_filter, verbose, parse_dates, date_parser, date_format, thousands, decimal, comment, skipfooter, storage_options, dtype_backend, engine_kwargs)\u001b[0m\n\u001b[1;32m    493\u001b[0m \u001b[38;5;28;01mif\u001b[39;00m \u001b[38;5;129;01mnot\u001b[39;00m \u001b[38;5;28misinstance\u001b[39m(io, ExcelFile):\n\u001b[1;32m    494\u001b[0m     should_close \u001b[38;5;241m=\u001b[39m \u001b[38;5;28;01mTrue\u001b[39;00m\n\u001b[0;32m--> 495\u001b[0m     io \u001b[38;5;241m=\u001b[39m \u001b[43mExcelFile\u001b[49m\u001b[43m(\u001b[49m\n\u001b[1;32m    496\u001b[0m \u001b[43m        \u001b[49m\u001b[43mio\u001b[49m\u001b[43m,\u001b[49m\n\u001b[1;32m    497\u001b[0m \u001b[43m        \u001b[49m\u001b[43mstorage_options\u001b[49m\u001b[38;5;241;43m=\u001b[39;49m\u001b[43mstorage_options\u001b[49m\u001b[43m,\u001b[49m\n\u001b[1;32m    498\u001b[0m \u001b[43m        \u001b[49m\u001b[43mengine\u001b[49m\u001b[38;5;241;43m=\u001b[39;49m\u001b[43mengine\u001b[49m\u001b[43m,\u001b[49m\n\u001b[1;32m    499\u001b[0m \u001b[43m        \u001b[49m\u001b[43mengine_kwargs\u001b[49m\u001b[38;5;241;43m=\u001b[39;49m\u001b[43mengine_kwargs\u001b[49m\u001b[43m,\u001b[49m\n\u001b[1;32m    500\u001b[0m \u001b[43m    \u001b[49m\u001b[43m)\u001b[49m\n\u001b[1;32m    501\u001b[0m \u001b[38;5;28;01melif\u001b[39;00m engine \u001b[38;5;129;01mand\u001b[39;00m engine \u001b[38;5;241m!=\u001b[39m io\u001b[38;5;241m.\u001b[39mengine:\n\u001b[1;32m    502\u001b[0m     \u001b[38;5;28;01mraise\u001b[39;00m \u001b[38;5;167;01mValueError\u001b[39;00m(\n\u001b[1;32m    503\u001b[0m         \u001b[38;5;124m\"\u001b[39m\u001b[38;5;124mEngine should not be specified when passing \u001b[39m\u001b[38;5;124m\"\u001b[39m\n\u001b[1;32m    504\u001b[0m         \u001b[38;5;124m\"\u001b[39m\u001b[38;5;124man ExcelFile - ExcelFile already has the engine set\u001b[39m\u001b[38;5;124m\"\u001b[39m\n\u001b[1;32m    505\u001b[0m     )\n",
            "File \u001b[0;32m~/Projects/Kalpaana/newenv/lib/python3.10/site-packages/pandas/io/excel/_base.py:1550\u001b[0m, in \u001b[0;36mExcelFile.__init__\u001b[0;34m(self, path_or_buffer, engine, storage_options, engine_kwargs)\u001b[0m\n\u001b[1;32m   1548\u001b[0m     ext \u001b[38;5;241m=\u001b[39m \u001b[38;5;124m\"\u001b[39m\u001b[38;5;124mxls\u001b[39m\u001b[38;5;124m\"\u001b[39m\n\u001b[1;32m   1549\u001b[0m \u001b[38;5;28;01melse\u001b[39;00m:\n\u001b[0;32m-> 1550\u001b[0m     ext \u001b[38;5;241m=\u001b[39m \u001b[43minspect_excel_format\u001b[49m\u001b[43m(\u001b[49m\n\u001b[1;32m   1551\u001b[0m \u001b[43m        \u001b[49m\u001b[43mcontent_or_path\u001b[49m\u001b[38;5;241;43m=\u001b[39;49m\u001b[43mpath_or_buffer\u001b[49m\u001b[43m,\u001b[49m\u001b[43m \u001b[49m\u001b[43mstorage_options\u001b[49m\u001b[38;5;241;43m=\u001b[39;49m\u001b[43mstorage_options\u001b[49m\n\u001b[1;32m   1552\u001b[0m \u001b[43m    \u001b[49m\u001b[43m)\u001b[49m\n\u001b[1;32m   1553\u001b[0m     \u001b[38;5;28;01mif\u001b[39;00m ext \u001b[38;5;129;01mis\u001b[39;00m \u001b[38;5;28;01mNone\u001b[39;00m:\n\u001b[1;32m   1554\u001b[0m         \u001b[38;5;28;01mraise\u001b[39;00m \u001b[38;5;167;01mValueError\u001b[39;00m(\n\u001b[1;32m   1555\u001b[0m             \u001b[38;5;124m\"\u001b[39m\u001b[38;5;124mExcel file format cannot be determined, you must specify \u001b[39m\u001b[38;5;124m\"\u001b[39m\n\u001b[1;32m   1556\u001b[0m             \u001b[38;5;124m\"\u001b[39m\u001b[38;5;124man engine manually.\u001b[39m\u001b[38;5;124m\"\u001b[39m\n\u001b[1;32m   1557\u001b[0m         )\n",
            "File \u001b[0;32m~/Projects/Kalpaana/newenv/lib/python3.10/site-packages/pandas/io/excel/_base.py:1402\u001b[0m, in \u001b[0;36minspect_excel_format\u001b[0;34m(content_or_path, storage_options)\u001b[0m\n\u001b[1;32m   1399\u001b[0m \u001b[38;5;28;01mif\u001b[39;00m \u001b[38;5;28misinstance\u001b[39m(content_or_path, \u001b[38;5;28mbytes\u001b[39m):\n\u001b[1;32m   1400\u001b[0m     content_or_path \u001b[38;5;241m=\u001b[39m BytesIO(content_or_path)\n\u001b[0;32m-> 1402\u001b[0m \u001b[38;5;28;01mwith\u001b[39;00m \u001b[43mget_handle\u001b[49m\u001b[43m(\u001b[49m\n\u001b[1;32m   1403\u001b[0m \u001b[43m    \u001b[49m\u001b[43mcontent_or_path\u001b[49m\u001b[43m,\u001b[49m\u001b[43m \u001b[49m\u001b[38;5;124;43m\"\u001b[39;49m\u001b[38;5;124;43mrb\u001b[39;49m\u001b[38;5;124;43m\"\u001b[39;49m\u001b[43m,\u001b[49m\u001b[43m \u001b[49m\u001b[43mstorage_options\u001b[49m\u001b[38;5;241;43m=\u001b[39;49m\u001b[43mstorage_options\u001b[49m\u001b[43m,\u001b[49m\u001b[43m \u001b[49m\u001b[43mis_text\u001b[49m\u001b[38;5;241;43m=\u001b[39;49m\u001b[38;5;28;43;01mFalse\u001b[39;49;00m\n\u001b[1;32m   1404\u001b[0m \u001b[43m\u001b[49m\u001b[43m)\u001b[49m \u001b[38;5;28;01mas\u001b[39;00m handle:\n\u001b[1;32m   1405\u001b[0m     stream \u001b[38;5;241m=\u001b[39m handle\u001b[38;5;241m.\u001b[39mhandle\n\u001b[1;32m   1406\u001b[0m     stream\u001b[38;5;241m.\u001b[39mseek(\u001b[38;5;241m0\u001b[39m)\n",
            "File \u001b[0;32m~/Projects/Kalpaana/newenv/lib/python3.10/site-packages/pandas/io/common.py:882\u001b[0m, in \u001b[0;36mget_handle\u001b[0;34m(path_or_buf, mode, encoding, compression, memory_map, is_text, errors, storage_options)\u001b[0m\n\u001b[1;32m    873\u001b[0m         handle \u001b[38;5;241m=\u001b[39m \u001b[38;5;28mopen\u001b[39m(\n\u001b[1;32m    874\u001b[0m             handle,\n\u001b[1;32m    875\u001b[0m             ioargs\u001b[38;5;241m.\u001b[39mmode,\n\u001b[0;32m   (...)\u001b[0m\n\u001b[1;32m    878\u001b[0m             newline\u001b[38;5;241m=\u001b[39m\u001b[38;5;124m\"\u001b[39m\u001b[38;5;124m\"\u001b[39m,\n\u001b[1;32m    879\u001b[0m         )\n\u001b[1;32m    880\u001b[0m     \u001b[38;5;28;01melse\u001b[39;00m:\n\u001b[1;32m    881\u001b[0m         \u001b[38;5;66;03m# Binary mode\u001b[39;00m\n\u001b[0;32m--> 882\u001b[0m         handle \u001b[38;5;241m=\u001b[39m \u001b[38;5;28;43mopen\u001b[39;49m\u001b[43m(\u001b[49m\u001b[43mhandle\u001b[49m\u001b[43m,\u001b[49m\u001b[43m \u001b[49m\u001b[43mioargs\u001b[49m\u001b[38;5;241;43m.\u001b[39;49m\u001b[43mmode\u001b[49m\u001b[43m)\u001b[49m\n\u001b[1;32m    883\u001b[0m     handles\u001b[38;5;241m.\u001b[39mappend(handle)\n\u001b[1;32m    885\u001b[0m \u001b[38;5;66;03m# Convert BytesIO or file objects passed with an encoding\u001b[39;00m\n",
            "\u001b[0;31mFileNotFoundError\u001b[0m: [Errno 2] No such file or directory: 'test_speed_bump.xlsx'"
          ]
        }
      ],
      "source": [
        "# Function to apply low-pass filter\n",
        "def butter_lowpass(cutoff, fs, order=5):\n",
        "    nyquist = 0.5 * fs\n",
        "    normal_cutoff = cutoff / nyquist\n",
        "    b, a = butter(order, normal_cutoff, btype='low', analog=False)\n",
        "    return b, a\n",
        "\n",
        "def apply_lowpass_filter(data, cutoff_frequency, sampling_frequency):\n",
        "    b, a = butter_lowpass(cutoff_frequency, sampling_frequency)\n",
        "    filtered_data = filtfilt(b, a, data)\n",
        "    return filtered_data\n",
        "\n",
        "# Function to preprocess the data\n",
        "def preprocess_data(df):\n",
        "    # Apply low-pass filter to relevant columns\n",
        "    columns_to_filter = ['Linear Acceleration x (m/s^2)',\n",
        "                         'Linear Acceleration y (m/s^2)',\n",
        "                         'Linear Acceleration z (m/s^2)',\n",
        "                         'Absolute acceleration (m/s^2)']\n",
        "\n",
        "    for column in columns_to_filter:\n",
        "        df[column] = apply_lowpass_filter(df[column], cutoff_frequency=10, sampling_frequency=100)\n",
        "\n",
        "    # Reshape data for LSTM input (samples, timesteps, features)\n",
        "    X = np.reshape(df.values, (1, df.shape[0], df.shape[1]))\n",
        "    return X\n",
        "\n",
        "# Read the new dataset from Excel\n",
        "new_data = pd.read_excel('test_speed_bump.xlsx')  # Replace 'new_dataset.xlsx' with the path to your new dataset file\n",
        "\n",
        "# Define parameters for the low-pass filter\n",
        "cutoff_frequency = 10  # Adjust cutoff frequency as needed\n",
        "sampling_frequency = 100  # Assuming sampling frequency of 100 Hz, adjust accordingly\n",
        "\n",
        "# Apply low-pass filter to specified columns\n",
        "columns_to_filter = ['Linear Acceleration x (m/s^2)',\n",
        "                     'Linear Acceleration y (m/s^2)',\n",
        "                     'Linear Acceleration z (m/s^2)',\n",
        "                     'Absolute acceleration (m/s^2)']\n",
        "\n",
        "for column in columns_to_filter:\n",
        "    new_data[column] = apply_lowpass_filter(new_data[column], cutoff_frequency, sampling_frequency)\n",
        "\n",
        "# Reshape data for LSTM input (samples, timesteps, features)\n",
        "X_new = np.reshape(new_data.values, (new_data.shape[0], 1, new_data.shape[1]))\n",
        "\n",
        "# Make predictions\n",
        "raw_predictions = model.predict(X_new)\n",
        "predictions = (raw_predictions > 0.5).astype(int)\n",
        "\n",
        "\n",
        "speed_bump_count = np.sum(predictions)\n",
        "non_speed_bump_count = len(predictions) - speed_bump_count\n",
        "\n",
        "\n",
        "if speed_bump_count > non_speed_bump_count:\n",
        "    print(\"The dataset is classified as a speed bump dataset.\")\n",
        "elif speed_bump_count < non_speed_bump_count:\n",
        "    print(\"The dataset is classified as a non-speed bump dataset.\")\n"
      ]
    },
    {
      "cell_type": "code",
      "execution_count": 6,
      "metadata": {
        "id": "EQ2YpNbGEmpu"
      },
      "outputs": [
        {
          "ename": "KeyboardInterrupt",
          "evalue": "",
          "output_type": "error",
          "traceback": [
            "\u001b[0;31m---------------------------------------------------------------------------\u001b[0m",
            "\u001b[0;31mKeyboardInterrupt\u001b[0m                         Traceback (most recent call last)",
            "Cell \u001b[0;32mIn[6], line 18\u001b[0m\n\u001b[1;32m     16\u001b[0m \u001b[38;5;66;03m# Loop to continuously receive and classify data in 5-second windows\u001b[39;00m\n\u001b[1;32m     17\u001b[0m \u001b[38;5;28;01mwhile\u001b[39;00m \u001b[38;5;28;01mTrue\u001b[39;00m:\n\u001b[0;32m---> 18\u001b[0m     new_data_chunk \u001b[38;5;241m=\u001b[39m \u001b[43mreceive_data_from_sensor\u001b[49m\u001b[43m(\u001b[49m\u001b[43m)\u001b[49m\n\u001b[1;32m     20\u001b[0m     \u001b[38;5;28;01mif\u001b[39;00m \u001b[38;5;129;01mnot\u001b[39;00m new_data_chunk\u001b[38;5;241m.\u001b[39mempty:\n\u001b[1;32m     21\u001b[0m         \u001b[38;5;66;03m# Apply low-pass filter to new data chunk\u001b[39;00m\n\u001b[1;32m     22\u001b[0m         \u001b[38;5;28;01mfor\u001b[39;00m column \u001b[38;5;129;01min\u001b[39;00m new_data_chunk\u001b[38;5;241m.\u001b[39mcolumns:\n",
            "Cell \u001b[0;32mIn[6], line 14\u001b[0m, in \u001b[0;36mreceive_data_from_sensor\u001b[0;34m()\u001b[0m\n\u001b[1;32m     12\u001b[0m \u001b[38;5;28;01mdef\u001b[39;00m \u001b[38;5;21mreceive_data_from_sensor\u001b[39m():\n\u001b[1;32m     13\u001b[0m     \u001b[38;5;66;03m# Placeholder function; Replace with actual function to receive streaming data\u001b[39;00m\n\u001b[0;32m---> 14\u001b[0m     \u001b[38;5;28;01mreturn\u001b[39;00m \u001b[43mpd\u001b[49m\u001b[38;5;241;43m.\u001b[39;49m\u001b[43mDataFrame\u001b[49m\u001b[43m(\u001b[49m\u001b[43m)\u001b[49m\n",
            "File \u001b[0;32m~/Projects/Kalpaana/newenv/lib/python3.10/site-packages/pandas/core/frame.py:865\u001b[0m, in \u001b[0;36mDataFrame.__init__\u001b[0;34m(self, data, index, columns, dtype, copy)\u001b[0m\n\u001b[1;32m    856\u001b[0m             mgr \u001b[38;5;241m=\u001b[39m ndarray_to_mgr(\n\u001b[1;32m    857\u001b[0m                 data,\n\u001b[1;32m    858\u001b[0m                 index,\n\u001b[0;32m   (...)\u001b[0m\n\u001b[1;32m    862\u001b[0m                 typ\u001b[38;5;241m=\u001b[39mmanager,\n\u001b[1;32m    863\u001b[0m             )\n\u001b[1;32m    864\u001b[0m     \u001b[38;5;28;01melse\u001b[39;00m:\n\u001b[0;32m--> 865\u001b[0m         mgr \u001b[38;5;241m=\u001b[39m \u001b[43mdict_to_mgr\u001b[49m\u001b[43m(\u001b[49m\n\u001b[1;32m    866\u001b[0m \u001b[43m            \u001b[49m\u001b[43m{\u001b[49m\u001b[43m}\u001b[49m\u001b[43m,\u001b[49m\n\u001b[1;32m    867\u001b[0m \u001b[43m            \u001b[49m\u001b[43mindex\u001b[49m\u001b[43m,\u001b[49m\n\u001b[1;32m    868\u001b[0m \u001b[43m            \u001b[49m\u001b[43mcolumns\u001b[49m\u001b[43m \u001b[49m\u001b[38;5;28;43;01mif\u001b[39;49;00m\u001b[43m \u001b[49m\u001b[43mcolumns\u001b[49m\u001b[43m \u001b[49m\u001b[38;5;129;43;01mis\u001b[39;49;00m\u001b[43m \u001b[49m\u001b[38;5;129;43;01mnot\u001b[39;49;00m\u001b[43m \u001b[49m\u001b[38;5;28;43;01mNone\u001b[39;49;00m\u001b[43m \u001b[49m\u001b[38;5;28;43;01melse\u001b[39;49;00m\u001b[43m \u001b[49m\u001b[43mdefault_index\u001b[49m\u001b[43m(\u001b[49m\u001b[38;5;241;43m0\u001b[39;49m\u001b[43m)\u001b[49m\u001b[43m,\u001b[49m\n\u001b[1;32m    869\u001b[0m \u001b[43m            \u001b[49m\u001b[43mdtype\u001b[49m\u001b[38;5;241;43m=\u001b[39;49m\u001b[43mdtype\u001b[49m\u001b[43m,\u001b[49m\n\u001b[1;32m    870\u001b[0m \u001b[43m            \u001b[49m\u001b[43mtyp\u001b[49m\u001b[38;5;241;43m=\u001b[39;49m\u001b[43mmanager\u001b[49m\u001b[43m,\u001b[49m\n\u001b[1;32m    871\u001b[0m \u001b[43m        \u001b[49m\u001b[43m)\u001b[49m\n\u001b[1;32m    872\u001b[0m \u001b[38;5;66;03m# For data is scalar\u001b[39;00m\n\u001b[1;32m    873\u001b[0m \u001b[38;5;28;01melse\u001b[39;00m:\n\u001b[1;32m    874\u001b[0m     \u001b[38;5;28;01mif\u001b[39;00m index \u001b[38;5;129;01mis\u001b[39;00m \u001b[38;5;28;01mNone\u001b[39;00m \u001b[38;5;129;01mor\u001b[39;00m columns \u001b[38;5;129;01mis\u001b[39;00m \u001b[38;5;28;01mNone\u001b[39;00m:\n",
            "File \u001b[0;32m~/Projects/Kalpaana/newenv/lib/python3.10/site-packages/pandas/core/internals/construction.py:453\u001b[0m, in \u001b[0;36mdict_to_mgr\u001b[0;34m(data, index, columns, dtype, typ, copy)\u001b[0m\n\u001b[1;32m    450\u001b[0m     index \u001b[38;5;241m=\u001b[39m ensure_index(index)\n\u001b[1;32m    452\u001b[0m \u001b[38;5;66;03m# no obvious \"empty\" int column\u001b[39;00m\n\u001b[0;32m--> 453\u001b[0m \u001b[38;5;28;01mif\u001b[39;00m \u001b[43mmissing\u001b[49m\u001b[38;5;241;43m.\u001b[39;49m\u001b[43many\u001b[49m\u001b[43m(\u001b[49m\u001b[43m)\u001b[49m \u001b[38;5;129;01mand\u001b[39;00m \u001b[38;5;129;01mnot\u001b[39;00m is_integer_dtype(dtype):\n\u001b[1;32m    454\u001b[0m     nan_dtype: DtypeObj\n\u001b[1;32m    456\u001b[0m     \u001b[38;5;28;01mif\u001b[39;00m dtype \u001b[38;5;129;01mis\u001b[39;00m \u001b[38;5;129;01mnot\u001b[39;00m \u001b[38;5;28;01mNone\u001b[39;00m:\n\u001b[1;32m    457\u001b[0m         \u001b[38;5;66;03m# calling sanitize_array ensures we don't mix-and-match\u001b[39;00m\n\u001b[1;32m    458\u001b[0m         \u001b[38;5;66;03m#  NA dtypes\u001b[39;00m\n",
            "File \u001b[0;32m~/Projects/Kalpaana/newenv/lib/python3.10/site-packages/pandas/core/series.py:6462\u001b[0m, in \u001b[0;36mSeries.any\u001b[0;34m(self, axis, bool_only, skipna, **kwargs)\u001b[0m\n\u001b[1;32m   6460\u001b[0m nv\u001b[38;5;241m.\u001b[39mvalidate_logical_func((), kwargs, fname\u001b[38;5;241m=\u001b[39m\u001b[38;5;124m\"\u001b[39m\u001b[38;5;124many\u001b[39m\u001b[38;5;124m\"\u001b[39m)\n\u001b[1;32m   6461\u001b[0m validate_bool_kwarg(skipna, \u001b[38;5;124m\"\u001b[39m\u001b[38;5;124mskipna\u001b[39m\u001b[38;5;124m\"\u001b[39m, none_allowed\u001b[38;5;241m=\u001b[39m\u001b[38;5;28;01mFalse\u001b[39;00m)\n\u001b[0;32m-> 6462\u001b[0m \u001b[38;5;28;01mreturn\u001b[39;00m \u001b[38;5;28;43mself\u001b[39;49m\u001b[38;5;241;43m.\u001b[39;49m\u001b[43m_reduce\u001b[49m\u001b[43m(\u001b[49m\n\u001b[1;32m   6463\u001b[0m \u001b[43m    \u001b[49m\u001b[43mnanops\u001b[49m\u001b[38;5;241;43m.\u001b[39;49m\u001b[43mnanany\u001b[49m\u001b[43m,\u001b[49m\n\u001b[1;32m   6464\u001b[0m \u001b[43m    \u001b[49m\u001b[43mname\u001b[49m\u001b[38;5;241;43m=\u001b[39;49m\u001b[38;5;124;43m\"\u001b[39;49m\u001b[38;5;124;43many\u001b[39;49m\u001b[38;5;124;43m\"\u001b[39;49m\u001b[43m,\u001b[49m\n\u001b[1;32m   6465\u001b[0m \u001b[43m    \u001b[49m\u001b[43maxis\u001b[49m\u001b[38;5;241;43m=\u001b[39;49m\u001b[43maxis\u001b[49m\u001b[43m,\u001b[49m\n\u001b[1;32m   6466\u001b[0m \u001b[43m    \u001b[49m\u001b[43mnumeric_only\u001b[49m\u001b[38;5;241;43m=\u001b[39;49m\u001b[43mbool_only\u001b[49m\u001b[43m,\u001b[49m\n\u001b[1;32m   6467\u001b[0m \u001b[43m    \u001b[49m\u001b[43mskipna\u001b[49m\u001b[38;5;241;43m=\u001b[39;49m\u001b[43mskipna\u001b[49m\u001b[43m,\u001b[49m\n\u001b[1;32m   6468\u001b[0m \u001b[43m    \u001b[49m\u001b[43mfilter_type\u001b[49m\u001b[38;5;241;43m=\u001b[39;49m\u001b[38;5;124;43m\"\u001b[39;49m\u001b[38;5;124;43mbool\u001b[39;49m\u001b[38;5;124;43m\"\u001b[39;49m\u001b[43m,\u001b[49m\n\u001b[1;32m   6469\u001b[0m \u001b[43m\u001b[49m\u001b[43m)\u001b[49m\n",
            "File \u001b[0;32m~/Projects/Kalpaana/newenv/lib/python3.10/site-packages/pandas/core/series.py:6448\u001b[0m, in \u001b[0;36mSeries._reduce\u001b[0;34m(self, op, name, axis, skipna, numeric_only, filter_type, **kwds)\u001b[0m\n\u001b[1;32m   6443\u001b[0m     \u001b[38;5;66;03m# GH#47500 - change to TypeError to match other methods\u001b[39;00m\n\u001b[1;32m   6444\u001b[0m     \u001b[38;5;28;01mraise\u001b[39;00m \u001b[38;5;167;01mTypeError\u001b[39;00m(\n\u001b[1;32m   6445\u001b[0m         \u001b[38;5;124mf\u001b[39m\u001b[38;5;124m\"\u001b[39m\u001b[38;5;124mSeries.\u001b[39m\u001b[38;5;132;01m{\u001b[39;00mname\u001b[38;5;132;01m}\u001b[39;00m\u001b[38;5;124m does not allow \u001b[39m\u001b[38;5;132;01m{\u001b[39;00mkwd_name\u001b[38;5;132;01m}\u001b[39;00m\u001b[38;5;124m=\u001b[39m\u001b[38;5;132;01m{\u001b[39;00mnumeric_only\u001b[38;5;132;01m}\u001b[39;00m\u001b[38;5;124m \u001b[39m\u001b[38;5;124m\"\u001b[39m\n\u001b[1;32m   6446\u001b[0m         \u001b[38;5;124m\"\u001b[39m\u001b[38;5;124mwith non-numeric dtypes.\u001b[39m\u001b[38;5;124m\"\u001b[39m\n\u001b[1;32m   6447\u001b[0m     )\n\u001b[0;32m-> 6448\u001b[0m \u001b[38;5;28;01mreturn\u001b[39;00m \u001b[43mop\u001b[49m\u001b[43m(\u001b[49m\u001b[43mdelegate\u001b[49m\u001b[43m,\u001b[49m\u001b[43m \u001b[49m\u001b[43mskipna\u001b[49m\u001b[38;5;241;43m=\u001b[39;49m\u001b[43mskipna\u001b[49m\u001b[43m,\u001b[49m\u001b[43m \u001b[49m\u001b[38;5;241;43m*\u001b[39;49m\u001b[38;5;241;43m*\u001b[39;49m\u001b[43mkwds\u001b[49m\u001b[43m)\u001b[49m\n",
            "File \u001b[0;32m~/Projects/Kalpaana/newenv/lib/python3.10/site-packages/pandas/core/nanops.py:520\u001b[0m, in \u001b[0;36mnanany\u001b[0;34m(values, axis, skipna, mask)\u001b[0m\n\u001b[1;32m    489\u001b[0m \u001b[38;5;250m\u001b[39m\u001b[38;5;124;03m\"\"\"\u001b[39;00m\n\u001b[1;32m    490\u001b[0m \u001b[38;5;124;03mCheck if any elements along an axis evaluate to True.\u001b[39;00m\n\u001b[1;32m    491\u001b[0m \n\u001b[0;32m   (...)\u001b[0m\n\u001b[1;32m    514\u001b[0m \u001b[38;5;124;03mFalse\u001b[39;00m\n\u001b[1;32m    515\u001b[0m \u001b[38;5;124;03m\"\"\"\u001b[39;00m\n\u001b[1;32m    516\u001b[0m \u001b[38;5;28;01mif\u001b[39;00m values\u001b[38;5;241m.\u001b[39mdtype\u001b[38;5;241m.\u001b[39mkind \u001b[38;5;129;01min\u001b[39;00m \u001b[38;5;124m\"\u001b[39m\u001b[38;5;124miub\u001b[39m\u001b[38;5;124m\"\u001b[39m \u001b[38;5;129;01mand\u001b[39;00m mask \u001b[38;5;129;01mis\u001b[39;00m \u001b[38;5;28;01mNone\u001b[39;00m:\n\u001b[1;32m    517\u001b[0m     \u001b[38;5;66;03m# GH#26032 fastpath\u001b[39;00m\n\u001b[1;32m    518\u001b[0m     \u001b[38;5;66;03m# error: Incompatible return value type (got \"Union[bool_, ndarray]\",\u001b[39;00m\n\u001b[1;32m    519\u001b[0m     \u001b[38;5;66;03m# expected \"bool\")\u001b[39;00m\n\u001b[0;32m--> 520\u001b[0m     \u001b[38;5;28;01mreturn\u001b[39;00m \u001b[43mvalues\u001b[49m\u001b[38;5;241;43m.\u001b[39;49m\u001b[43many\u001b[49m\u001b[43m(\u001b[49m\u001b[43maxis\u001b[49m\u001b[43m)\u001b[49m  \u001b[38;5;66;03m# type: ignore[return-value]\u001b[39;00m\n\u001b[1;32m    522\u001b[0m \u001b[38;5;28;01mif\u001b[39;00m values\u001b[38;5;241m.\u001b[39mdtype\u001b[38;5;241m.\u001b[39mkind \u001b[38;5;241m==\u001b[39m \u001b[38;5;124m\"\u001b[39m\u001b[38;5;124mM\u001b[39m\u001b[38;5;124m\"\u001b[39m:\n\u001b[1;32m    523\u001b[0m     \u001b[38;5;66;03m# GH#34479\u001b[39;00m\n\u001b[1;32m    524\u001b[0m     warnings\u001b[38;5;241m.\u001b[39mwarn(\n\u001b[1;32m    525\u001b[0m         \u001b[38;5;124m\"\u001b[39m\u001b[38;5;124m'\u001b[39m\u001b[38;5;124many\u001b[39m\u001b[38;5;124m'\u001b[39m\u001b[38;5;124m with datetime64 dtypes is deprecated and will raise in a \u001b[39m\u001b[38;5;124m\"\u001b[39m\n\u001b[1;32m    526\u001b[0m         \u001b[38;5;124m\"\u001b[39m\u001b[38;5;124mfuture version. Use (obj != pd.Timestamp(0)).any() instead.\u001b[39m\u001b[38;5;124m\"\u001b[39m,\n\u001b[1;32m    527\u001b[0m         \u001b[38;5;167;01mFutureWarning\u001b[39;00m,\n\u001b[1;32m    528\u001b[0m         stacklevel\u001b[38;5;241m=\u001b[39mfind_stack_level(),\n\u001b[1;32m    529\u001b[0m     )\n",
            "File \u001b[0;32m~/Projects/Kalpaana/newenv/lib/python3.10/site-packages/numpy/core/_methods.py:58\u001b[0m, in \u001b[0;36m_any\u001b[0;34m(a, axis, dtype, out, keepdims, where)\u001b[0m\n\u001b[1;32m     55\u001b[0m \u001b[38;5;28;01mdef\u001b[39;00m \u001b[38;5;21m_any\u001b[39m(a, axis\u001b[38;5;241m=\u001b[39m\u001b[38;5;28;01mNone\u001b[39;00m, dtype\u001b[38;5;241m=\u001b[39m\u001b[38;5;28;01mNone\u001b[39;00m, out\u001b[38;5;241m=\u001b[39m\u001b[38;5;28;01mNone\u001b[39;00m, keepdims\u001b[38;5;241m=\u001b[39m\u001b[38;5;28;01mFalse\u001b[39;00m, \u001b[38;5;241m*\u001b[39m, where\u001b[38;5;241m=\u001b[39m\u001b[38;5;28;01mTrue\u001b[39;00m):\n\u001b[1;32m     56\u001b[0m     \u001b[38;5;66;03m# Parsing keyword arguments is currently fairly slow, so avoid it for now\u001b[39;00m\n\u001b[1;32m     57\u001b[0m     \u001b[38;5;28;01mif\u001b[39;00m where \u001b[38;5;129;01mis\u001b[39;00m \u001b[38;5;28;01mTrue\u001b[39;00m:\n\u001b[0;32m---> 58\u001b[0m         \u001b[38;5;28;01mreturn\u001b[39;00m \u001b[43mumr_any\u001b[49m\u001b[43m(\u001b[49m\u001b[43ma\u001b[49m\u001b[43m,\u001b[49m\u001b[43m \u001b[49m\u001b[43maxis\u001b[49m\u001b[43m,\u001b[49m\u001b[43m \u001b[49m\u001b[43mdtype\u001b[49m\u001b[43m,\u001b[49m\u001b[43m \u001b[49m\u001b[43mout\u001b[49m\u001b[43m,\u001b[49m\u001b[43m \u001b[49m\u001b[43mkeepdims\u001b[49m\u001b[43m)\u001b[49m\n\u001b[1;32m     59\u001b[0m     \u001b[38;5;28;01mreturn\u001b[39;00m umr_any(a, axis, dtype, out, keepdims, where\u001b[38;5;241m=\u001b[39mwhere)\n",
            "\u001b[0;31mKeyboardInterrupt\u001b[0m: "
          ]
        }
      ],
      "source": [
        "def classify_window(window_data):\n",
        "    # Reshape data for LSTM input (samples, timesteps, features)\n",
        "    window_data = np.reshape(window_data, (1, window_data.shape[0], window_data.shape[1]))\n",
        "    raw_prediction = model.predict(window_data)\n",
        "    prediction = (raw_prediction > 0.5).astype(int)\n",
        "    return prediction\n",
        "\n",
        "# Placeholder for collecting data in 5-second windows\n",
        "window_data = []\n",
        "\n",
        "# Assuming you have a function to receive streaming data (e.g., from sensors)\n",
        "def receive_data_from_sensor():\n",
        "    # Placeholder function; Replace with actual function to receive streaming data\n",
        "    return pd.DataFrame()  # Placeholder DataFrame\n",
        "\n",
        "# Loop to continuously receive and classify data in 5-second windows\n",
        "while True:\n",
        "    new_data_chunk = receive_data_from_sensor()\n",
        "\n",
        "    if not new_data_chunk.empty:\n",
        "        # Apply low-pass filter to new data chunk\n",
        "        for column in new_data_chunk.columns:\n",
        "            new_data_chunk[column] = apply_lowpass_filter(new_data_chunk[column], cutoff_frequency, sampling_frequency)\n",
        "\n",
        "        # Append new data chunk to window_data\n",
        "        window_data.append(new_data_chunk)\n",
        "\n",
        "        # If window_data spans 5 seconds (assuming sampling frequency of 100 Hz)\n",
        "        if len(window_data) >= 500:\n",
        "            # Convert window_data to DataFrame\n",
        "            window_df = pd.concat(window_data)\n",
        "\n",
        "            # Preprocess window_data\n",
        "            X_window = preprocess_data(window_df)\n",
        "\n",
        "            # Classify data in 5-second window\n",
        "            prediction = classify_window(X_window)\n",
        "\n",
        "            # Output or use prediction as needed\n",
        "\n",
        "            # Clear window_data for the next 5-second window\n",
        "            window_data = []"
      ]
    },
    {
      "cell_type": "code",
      "execution_count": 7,
      "metadata": {},
      "outputs": [
        {
          "name": "stderr",
          "output_type": "stream",
          "text": [
            "WARNING:absl:You are saving your model as an HDF5 file via `model.save()` or `keras.saving.save_model(model)`. This file format is considered legacy. We recommend using instead the native Keras format, e.g. `model.save('my_model.keras')` or `keras.saving.save_model(model, 'my_model.keras')`. \n"
          ]
        }
      ],
      "source": [
        "model.save(\"trained_model.h5\")"
      ]
    }
  ],
  "metadata": {
    "colab": {
      "provenance": []
    },
    "kernelspec": {
      "display_name": "Python 3",
      "name": "python3"
    },
    "language_info": {
      "codemirror_mode": {
        "name": "ipython",
        "version": 3
      },
      "file_extension": ".py",
      "mimetype": "text/x-python",
      "name": "python",
      "nbconvert_exporter": "python",
      "pygments_lexer": "ipython3",
      "version": "3.10.12"
    }
  },
  "nbformat": 4,
  "nbformat_minor": 0
}
